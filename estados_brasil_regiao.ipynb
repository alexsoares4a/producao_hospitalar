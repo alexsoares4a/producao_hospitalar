{
 "cells": [
  {
   "cell_type": "code",
   "execution_count": 16,
   "metadata": {},
   "outputs": [],
   "source": [
    "import pandas as pd"
   ]
  },
  {
   "cell_type": "code",
   "execution_count": 17,
   "metadata": {},
   "outputs": [],
   "source": [
    "dados_estados_regiao = pd.read_csv(\"Lista_Estados_Brasil_Versao_CSV.csv\",\n",
    "                                   encoding=\"ISO-8859-1\",\n",
    "                                   sep=\";\")"
   ]
  },
  {
   "cell_type": "code",
   "execution_count": 18,
   "metadata": {},
   "outputs": [
    {
     "data": {
      "text/html": [
       "<div>\n",
       "<style scoped>\n",
       "    .dataframe tbody tr th:only-of-type {\n",
       "        vertical-align: middle;\n",
       "    }\n",
       "\n",
       "    .dataframe tbody tr th {\n",
       "        vertical-align: top;\n",
       "    }\n",
       "\n",
       "    .dataframe thead th {\n",
       "        text-align: right;\n",
       "    }\n",
       "</style>\n",
       "<table border=\"1\" class=\"dataframe\">\n",
       "  <thead>\n",
       "    <tr style=\"text-align: right;\">\n",
       "      <th></th>\n",
       "      <th>IBGE</th>\n",
       "      <th>Estado</th>\n",
       "      <th>UF</th>\n",
       "      <th>Região</th>\n",
       "      <th>Qtd Mun</th>\n",
       "      <th>Sintaxe</th>\n",
       "      <th>Unnamed: 6</th>\n",
       "      <th>Unnamed: 7</th>\n",
       "      <th>Unnamed: 8</th>\n",
       "    </tr>\n",
       "  </thead>\n",
       "  <tbody>\n",
       "    <tr>\n",
       "      <th>0</th>\n",
       "      <td>11</td>\n",
       "      <td>Rondônia</td>\n",
       "      <td>RO</td>\n",
       "      <td>Região Norte</td>\n",
       "      <td>52</td>\n",
       "      <td>11'RO'</td>\n",
       "      <td>NaN</td>\n",
       "      <td>NaN</td>\n",
       "      <td>PROCV(A2;'Lista de Estados IBGE'!$A$2:$C$28;2;0)</td>\n",
       "    </tr>\n",
       "    <tr>\n",
       "      <th>1</th>\n",
       "      <td>12</td>\n",
       "      <td>Acre</td>\n",
       "      <td>AC</td>\n",
       "      <td>Região Norte</td>\n",
       "      <td>22</td>\n",
       "      <td>12'AC'</td>\n",
       "      <td>NaN</td>\n",
       "      <td>NaN</td>\n",
       "      <td>NaN</td>\n",
       "    </tr>\n",
       "    <tr>\n",
       "      <th>2</th>\n",
       "      <td>13</td>\n",
       "      <td>Amazonas</td>\n",
       "      <td>AM</td>\n",
       "      <td>Região Norte</td>\n",
       "      <td>62</td>\n",
       "      <td>13'AM'</td>\n",
       "      <td>NaN</td>\n",
       "      <td>NaN</td>\n",
       "      <td>NaN</td>\n",
       "    </tr>\n",
       "    <tr>\n",
       "      <th>3</th>\n",
       "      <td>14</td>\n",
       "      <td>Roraima</td>\n",
       "      <td>RR</td>\n",
       "      <td>Região Norte</td>\n",
       "      <td>15</td>\n",
       "      <td>14'RR'</td>\n",
       "      <td>NaN</td>\n",
       "      <td>NaN</td>\n",
       "      <td>NaN</td>\n",
       "    </tr>\n",
       "    <tr>\n",
       "      <th>4</th>\n",
       "      <td>15</td>\n",
       "      <td>Pará</td>\n",
       "      <td>PA</td>\n",
       "      <td>Região Norte</td>\n",
       "      <td>144</td>\n",
       "      <td>15'PA'</td>\n",
       "      <td>NaN</td>\n",
       "      <td>NaN</td>\n",
       "      <td>NaN</td>\n",
       "    </tr>\n",
       "  </tbody>\n",
       "</table>\n",
       "</div>"
      ],
      "text/plain": [
       "   IBGE    Estado  UF        Região  Qtd Mun Sintaxe  Unnamed: 6  Unnamed: 7  \\\n",
       "0    11  Rondônia  RO  Região Norte       52  11'RO'         NaN         NaN   \n",
       "1    12      Acre  AC  Região Norte       22  12'AC'         NaN         NaN   \n",
       "2    13  Amazonas  AM  Região Norte       62  13'AM'         NaN         NaN   \n",
       "3    14   Roraima  RR  Região Norte       15  14'RR'         NaN         NaN   \n",
       "4    15      Pará  PA  Região Norte      144  15'PA'         NaN         NaN   \n",
       "\n",
       "                                         Unnamed: 8  \n",
       "0  PROCV(A2;'Lista de Estados IBGE'!$A$2:$C$28;2;0)  \n",
       "1                                               NaN  \n",
       "2                                               NaN  \n",
       "3                                               NaN  \n",
       "4                                               NaN  "
      ]
     },
     "execution_count": 18,
     "metadata": {},
     "output_type": "execute_result"
    }
   ],
   "source": [
    "dados_estados_regiao.head()"
   ]
  },
  {
   "cell_type": "code",
   "execution_count": 19,
   "metadata": {},
   "outputs": [],
   "source": [
    "# Para excluir uma coluna usa-se o método drop() alterando a propriedade axis=1. Para linhas, o padrão é axis=0.\n",
    "dados_estados_regiao.drop(\"Unnamed: 6\", axis=1, inplace=True)\n",
    "\n",
    "# Para excluir várias colunas deve-se colocar o nome das colunas em uma lista\n",
    "dados_estados_regiao.drop([\"Unnamed: 7\", \"Unnamed: 8\"], axis=1, inplace=True)\n"
   ]
  },
  {
   "cell_type": "code",
   "execution_count": 36,
   "metadata": {},
   "outputs": [
    {
     "data": {
      "text/plain": [
       "IBGE        int64\n",
       "Estado     object\n",
       "UF         object\n",
       "Região     object\n",
       "Qtd Mun     int64\n",
       "Sintaxe    object\n",
       "dtype: object"
      ]
     },
     "execution_count": 36,
     "metadata": {},
     "output_type": "execute_result"
    }
   ],
   "source": [
    "dados_estados_regiao.dtypes"
   ]
  },
  {
   "cell_type": "code",
   "execution_count": 52,
   "metadata": {},
   "outputs": [
    {
     "data": {
      "text/plain": [
       "0    Região Norte\n",
       "Name: Região, dtype: object"
      ]
     },
     "execution_count": 52,
     "metadata": {},
     "output_type": "execute_result"
    }
   ],
   "source": [
    "# Para buscar dados usando o código IBGE e retornando apenas a informação da Região\n",
    "# dados_estados_regiao.loc[dados_estados_regiao[\"IBGE\"] == 11, \"Região\"]\n",
    "codigo_estado = 11\n",
    "\n",
    "dados_estados_regiao.loc[dados_estados_regiao[\"IBGE\"] == codigo_estado, \"Região\"]"
   ]
  }
 ],
 "metadata": {
  "kernelspec": {
   "display_name": "producao_hospitalar",
   "language": "python",
   "name": "python3"
  },
  "language_info": {
   "codemirror_mode": {
    "name": "ipython",
    "version": 3
   },
   "file_extension": ".py",
   "mimetype": "text/x-python",
   "name": "python",
   "nbconvert_exporter": "python",
   "pygments_lexer": "ipython3",
   "version": "3.12.1"
  }
 },
 "nbformat": 4,
 "nbformat_minor": 2
}
